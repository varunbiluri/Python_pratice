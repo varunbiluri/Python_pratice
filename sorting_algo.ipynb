{
 "cells": [
  {
   "cell_type": "code",
   "execution_count": 2,
   "metadata": {},
   "outputs": [
    {
     "name": "stdout",
     "output_type": "stream",
     "text": [
      "[11, 12, 22, 25, 64]\n"
     ]
    }
   ],
   "source": [
    "def selection_sort(arr):\n",
    "    # Function to perform selection sort on the given array\n",
    "\n",
    "    for i in range(len(arr)):\n",
    "        # Iterate through each element in the array\n",
    "\n",
    "        min_idx = i\n",
    "        # Assume the current element is the minimum\n",
    "\n",
    "        for j in range(i+1, len(arr)):\n",
    "            # Iterate through the remaining elements in the array\n",
    "\n",
    "            if arr[min_idx] > arr[j]:\n",
    "                # If a smaller element is found\n",
    "\n",
    "                min_idx = j\n",
    "                # Update the index of the minimum element\n",
    "\n",
    "        arr[i], arr[min_idx] = arr[min_idx], arr[i]\n",
    "        # Swap the current element with the minimum element\n",
    "\n",
    "    return arr\n",
    "    # Return the sorted array\n",
    "\n",
    "arr = [64, 25, 12, 22, 11]\n",
    "# Initialize the array to be sorted\n",
    "\n",
    "print(selection_sort(arr))\n",
    "# Call the selection_sort function and print the sorted array\n"
   ]
  },
  {
   "cell_type": "code",
   "execution_count": 6,
   "metadata": {},
   "outputs": [
    {
     "name": "stdout",
     "output_type": "stream",
     "text": [
      "[11, 12, 22, 25, 64]\n"
     ]
    }
   ],
   "source": [
    "def bubble_sort(arr):\n",
    "    # Function to perform bubble sort on the given array\n",
    "\n",
    "    n = len(arr)\n",
    "    # Get the length of the array\n",
    "\n",
    "    for i in range(n):\n",
    "        # Iterate through each element in the array\n",
    "\n",
    "        for j in range(0, n-i-1):\n",
    "            # Iterate through the remaining elements in the array\n",
    "            # The range is adjusted to only go up to n-i-1 because the largest element is already in its correct position after each iteration\n",
    "\n",
    "            if arr[j] > arr[j+1]:\n",
    "                # Compare adjacent elements\n",
    "\n",
    "                arr[j], arr[j+1] = arr[j+1], arr[j]\n",
    "                # Swap the elements if they are in the wrong order\n",
    "\n",
    "    return arr\n",
    "    # Return the sorted array\n",
    "\n",
    "arr = [64, 25, 12, 22, 11]\n",
    "# Initialize the array to be sorted\n",
    "\n",
    "print(bubble_sort(arr))\n",
    "# Call the bubble_sort function and print the sorted array\n"
   ]
  },
  {
   "cell_type": "code",
   "execution_count": 11,
   "metadata": {},
   "outputs": [
    {
     "name": "stdout",
     "output_type": "stream",
     "text": [
      "[11, 12, 22, 25, 64]\n"
     ]
    }
   ],
   "source": [
    "def insertion_sort(arr):\n",
    "    # Function to perform insertion sort on the given array\n",
    "\n",
    "    for i in range(1, len(arr)):\n",
    "        # Iterate through each element in the array starting from the second element\n",
    "\n",
    "        key = arr[i]\n",
    "        # Store the current element\n",
    "\n",
    "        j = i-1\n",
    "        # Initialize the index of the previous element\n",
    "\n",
    "        while arr[j] > key and j >= 0:\n",
    "            # Compare the current element with the previous elements\n",
    "\n",
    "            arr[j+1] = arr[j]\n",
    "            # Move the previous element to the next position\n",
    "\n",
    "            j -= 1\n",
    "            # Move to the previous element\n",
    "\n",
    "        arr[j+1] = key\n",
    "        # Insert the current element in the correct position\n",
    "\n",
    "    return arr\n",
    "    # Return the sorted array\n",
    "arr = [64, 25, 12, 22, 11]\n",
    "# Initialize the array to be sorted\n",
    "print(insertion_sort(arr))"
   ]
  }
 ],
 "metadata": {
  "kernelspec": {
   "display_name": "base",
   "language": "python",
   "name": "python3"
  },
  "language_info": {
   "codemirror_mode": {
    "name": "ipython",
    "version": 3
   },
   "file_extension": ".py",
   "mimetype": "text/x-python",
   "name": "python",
   "nbconvert_exporter": "python",
   "pygments_lexer": "ipython3",
   "version": "3.11.7"
  }
 },
 "nbformat": 4,
 "nbformat_minor": 2
}
