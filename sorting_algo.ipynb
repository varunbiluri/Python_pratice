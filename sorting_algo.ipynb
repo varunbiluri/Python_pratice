{
 "cells": [
  {
   "cell_type": "code",
   "execution_count": 2,
   "metadata": {},
   "outputs": [
    {
     "name": "stdout",
     "output_type": "stream",
     "text": [
      "[11, 12, 22, 25, 64]\n"
     ]
    }
   ],
   "source": [
    "def selection_sort(arr):\n",
    "    # Function to perform selection sort on the given array\n",
    "\n",
    "    for i in range(len(arr)):\n",
    "        # Iterate through each element in the array\n",
    "\n",
    "        min_idx = i\n",
    "        # Assume the current element is the minimum\n",
    "\n",
    "        for j in range(i+1, len(arr)):\n",
    "            # Iterate through the remaining elements in the array\n",
    "\n",
    "            if arr[min_idx] > arr[j]:\n",
    "                # If a smaller element is found\n",
    "\n",
    "                min_idx = j\n",
    "                # Update the index of the minimum element\n",
    "\n",
    "        arr[i], arr[min_idx] = arr[min_idx], arr[i]\n",
    "        # Swap the current element with the minimum element\n",
    "\n",
    "    return arr\n",
    "    # Return the sorted array\n",
    "\n",
    "arr = [64, 25, 12, 22, 11]\n",
    "# Initialize the array to be sorted\n",
    "\n",
    "print(selection_sort(arr))\n",
    "# Call the selection_sort function and print the sorted array\n"
   ]
  }
 ],
 "metadata": {
  "kernelspec": {
   "display_name": "base",
   "language": "python",
   "name": "python3"
  },
  "language_info": {
   "codemirror_mode": {
    "name": "ipython",
    "version": 3
   },
   "file_extension": ".py",
   "mimetype": "text/x-python",
   "name": "python",
   "nbconvert_exporter": "python",
   "pygments_lexer": "ipython3",
   "version": "3.11.7"
  }
 },
 "nbformat": 4,
 "nbformat_minor": 2
}
