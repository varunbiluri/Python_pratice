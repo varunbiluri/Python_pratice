{
 "cells": [
  {
   "cell_type": "code",
   "execution_count": 11,
   "metadata": {},
   "outputs": [
    {
     "name": "stdout",
     "output_type": "stream",
     "text": [
      "Loops run 1\n",
      "Element is present at index 0\n"
     ]
    }
   ],
   "source": [
    "def linersearch(arr, x):\n",
    "    # Iterate over each element in the array\n",
    "    for i in range(len(arr)):\n",
    "        # Print the number of loops run\n",
    "        print(\"Loops run\", i+1)\n",
    "        # Check if the current element is equal to the target value\n",
    "        if arr[i] == x:\n",
    "            # If found, return the index of the element\n",
    "            return i\n",
    "    # If the target value is not found, return -1\n",
    "    return -1\n",
    "arr=[1,2,3,4,5,6,7,8,9,10]\n",
    "x=1\n",
    "result=linersearch(arr,x)\n",
    "if result != -1:\n",
    "    print(\"Element is present at index\", str(result))\n",
    "else:\n",
    "    print(\"Element is not present in array\")\n"
   ]
  },
  {
   "cell_type": "code",
   "execution_count": 12,
   "metadata": {},
   "outputs": [
    {
     "name": "stdout",
     "output_type": "stream",
     "text": [
      "Loops run 5\n",
      "Loops run 2\n",
      "Loops run 1\n",
      "Element is present at index 0\n"
     ]
    }
   ],
   "source": [
    "def BinarySearch(arr, x):\n",
    "    # Set the starting and ending index of the array\n",
    "    start = 0\n",
    "    end = len(arr) - 1\n",
    "    # Iterate until the start index is less than or equal to the end index\n",
    "    while start <= end:\n",
    "        # Calculate the middle index of the array\n",
    "        mid = start + (end - start) // 2\n",
    "        # Print the number of loops run\n",
    "        print(\"Loops run\", mid+1)\n",
    "        # Check if the middle element is equal to the target value\n",
    "        if arr[mid] == x:\n",
    "            # If found, return the index of the element\n",
    "            return mid\n",
    "        # If the target value is less than the middle element\n",
    "        elif arr[mid] > x:\n",
    "            # Update the end index to the middle index - 1\n",
    "            end = mid - 1\n",
    "        # If the target value is greater than the middle element\n",
    "        else:\n",
    "            # Update the start index to the middle index + 1\n",
    "            start = mid + 1\n",
    "    # If the target value is not found, return -1\n",
    "    return -1\n",
    "arr=[1,2,3,4,5,6,7,8,9,10]\n",
    "x=1\n",
    "result=BinarySearch(arr,x)\n",
    "if result != -1:\n",
    "    print(\"Element is present at index\", str(result))\n",
    "else:\n",
    "    print(\"Element is not present in array\")"
   ]
  },
  {
   "cell_type": "code",
   "execution_count": null,
   "metadata": {},
   "outputs": [],
   "source": []
  }
 ],
 "metadata": {
  "kernelspec": {
   "display_name": "base",
   "language": "python",
   "name": "python3"
  },
  "language_info": {
   "codemirror_mode": {
    "name": "ipython",
    "version": 3
   },
   "file_extension": ".py",
   "mimetype": "text/x-python",
   "name": "python",
   "nbconvert_exporter": "python",
   "pygments_lexer": "ipython3",
   "version": "3.11.7"
  }
 },
 "nbformat": 4,
 "nbformat_minor": 2
}
